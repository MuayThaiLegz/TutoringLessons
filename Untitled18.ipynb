{
  "cells": [
    {
      "cell_type": "code",
      "execution_count": 15,
      "metadata": {
        "id": "1eHStEMLErEB"
      },
      "outputs": [],
      "source": [
        "# !pip install web3\n",
        "\n",
        "\n",
        "# from eth_account import Account\n",
        "# account = Account.create()\n",
        "# privateKey = account._key_obj\n",
        "# publicKey = privateKey.public_key\n",
        "# address = publicKey.to_checksum_address()\n"
      ]
    },
    {
      "cell_type": "markdown",
      "metadata": {
        "id": "cPUkfJewEub0"
      },
      "source": [
        "{\n",
        "  \"jsonrpc\": \"2.0\",\n",
        "  \"method\": \"eth_sendTransaction\",\n",
        "  \"params\": [{\n",
        "    \"from\": \"YOUR_ETH_ADDRESS\",\n",
        "    \"to\": \"DEPLOYED_CONTRACT_ADDRESS\",\n",
        "    \"data\": \"ENCODED_ADD_USER_FUNCTION_CALL\"\n",
        "  }],\n",
        "  \"id\": 1\n",
        "}\n"
      ]
    },
    {
      "cell_type": "markdown",
      "metadata": {
        "id": "C4m5CEtCExQ-"
      },
      "source": [
        "{\n",
        "  \"jsonrpc\": \"2.0\",\n",
        "  \"method\": \"eth_sendTransaction\",\n",
        "  \"params\": [{\n",
        "    \"from\": \"YOUR_ETH_ADDRESS\",\n",
        "    \"to\": \"DEPLOYED_CONTRACT_ADDRESS\",\n",
        "    \"data\": \"ENCODED_ADD_ITEM_FUNCTION_CALL\"\n",
        "  }],\n",
        "  \"id\": 2\n",
        "}\n"
      ]
    },
    {
      "cell_type": "markdown",
      "metadata": {
        "id": "okqi5UAyEycv"
      },
      "source": [
        "{\n",
        "  \"jsonrpc\": \"2.0\",\n",
        "  \"method\": \"eth_sendTransaction\",\n",
        "  \"params\": [{\n",
        "    \"from\": \"YOUR_ETH_ADDRESS\",\n",
        "    \"to\": \"DEPLOYED_CONTRACT_ADDRESS\",\n",
        "    \"data\": \"ENCODED_UPDATE_ITEM_FUNCTION_CALL\"\n",
        "  }],\n",
        "  \"id\": 3\n",
        "}\n"
      ]
    },
    {
      "cell_type": "markdown",
      "metadata": {
        "id": "HoBL7H_lE661"
      },
      "source": [
        "{\n",
        "  \"jsonrpc\": \"2.0\",\n",
        "  \"method\": \"eth_sendTransaction\",\n",
        "  \"params\": [{\n",
        "    \"from\": \"YOUR_ETH_ADDRESS\",\n",
        "    \"to\": \"DEPLOYED_CONTRACT_ADDRESS\",\n",
        "    \"data\": \"ENCODED_UPDATE_ITEM_FUNCTION_CALL\"\n",
        "  }],\n",
        "  \"id\": 3\n",
        "}\n"
      ]
    },
    {
      "cell_type": "markdown",
      "metadata": {
        "id": "jIpLBLCxE-3v"
      },
      "source": [
        "{\n",
        "  \"jsonrpc\": \"2.0\",\n",
        "  \"method\": \"eth_sendTransaction\",\n",
        "  \"params\": [{\n",
        "    \"from\": \"YOUR_ETH_ADDRESS\",\n",
        "    \"to\": \"DEPLOYED_CONTRACT_ADDRESS\",\n",
        "    \"data\": \"ENCODED_CHANGE_ITEM_STATUS_FUNCTION_CALL\"\n",
        "  }],\n",
        "  \"id\": 4\n",
        "}\n"
      ]
    },
    {
      "cell_type": "code",
      "execution_count": 148,
      "metadata": {},
      "outputs": [],
      "source": [
        "CONTRACT_ABI = [\n",
        "\t{\n",
        "\t\t\"inputs\": [\n",
        "\t\t\t{\n",
        "\t\t\t\t\"internalType\": \"string\",\n",
        "\t\t\t\t\"name\": \"name\",\n",
        "\t\t\t\t\"type\": \"string\"\n",
        "\t\t\t},\n",
        "\t\t\t{\n",
        "\t\t\t\t\"internalType\": \"uint256\",\n",
        "\t\t\t\t\"name\": \"quantity\",\n",
        "\t\t\t\t\"type\": \"uint256\"\n",
        "\t\t\t},\n",
        "\t\t\t{\n",
        "\t\t\t\t\"internalType\": \"uint256\",\n",
        "\t\t\t\t\"name\": \"expirationDate\",\n",
        "\t\t\t\t\"type\": \"uint256\"\n",
        "\t\t\t}\n",
        "\t\t],\n",
        "\t\t\"name\": \"addItemWithExpiration\",\n",
        "\t\t\"outputs\": [],\n",
        "\t\t\"stateMutability\": \"nonpayable\",\n",
        "\t\t\"type\": \"function\"\n",
        "\t},\n",
        "\t{\n",
        "\t\t\"inputs\": [\n",
        "\t\t\t{\n",
        "\t\t\t\t\"internalType\": \"address\",\n",
        "\t\t\t\t\"name\": \"user\",\n",
        "\t\t\t\t\"type\": \"address\"\n",
        "\t\t\t},\n",
        "\t\t\t{\n",
        "\t\t\t\t\"internalType\": \"string\",\n",
        "\t\t\t\t\"name\": \"role\",\n",
        "\t\t\t\t\"type\": \"string\"\n",
        "\t\t\t}\n",
        "\t\t],\n",
        "\t\t\"name\": \"addUser\",\n",
        "\t\t\"outputs\": [],\n",
        "\t\t\"stateMutability\": \"nonpayable\",\n",
        "\t\t\"type\": \"function\"\n",
        "\t},\n",
        "\t{\n",
        "\t\t\"inputs\": [\n",
        "\t\t\t{\n",
        "\t\t\t\t\"internalType\": \"uint256\",\n",
        "\t\t\t\t\"name\": \"itemId\",\n",
        "\t\t\t\t\"type\": \"uint256\"\n",
        "\t\t\t},\n",
        "\t\t\t{\n",
        "\t\t\t\t\"internalType\": \"string\",\n",
        "\t\t\t\t\"name\": \"newStatus\",\n",
        "\t\t\t\t\"type\": \"string\"\n",
        "\t\t\t}\n",
        "\t\t],\n",
        "\t\t\"name\": \"changeItemStatus\",\n",
        "\t\t\"outputs\": [],\n",
        "\t\t\"stateMutability\": \"nonpayable\",\n",
        "\t\t\"type\": \"function\"\n",
        "\t},\n",
        "\t{\n",
        "\t\t\"inputs\": [],\n",
        "\t\t\"stateMutability\": \"nonpayable\",\n",
        "\t\t\"type\": \"constructor\"\n",
        "\t},\n",
        "\t{\n",
        "\t\t\"anonymous\": False,\n",
        "\t\t\"inputs\": [\n",
        "\t\t\t{\n",
        "\t\t\t\t\"indexed\": False,\n",
        "\t\t\t\t\"internalType\": \"uint256\",\n",
        "\t\t\t\t\"name\": \"id\",\n",
        "\t\t\t\t\"type\": \"uint256\"\n",
        "\t\t\t},\n",
        "\t\t\t{\n",
        "\t\t\t\t\"indexed\": False,\n",
        "\t\t\t\t\"internalType\": \"string\",\n",
        "\t\t\t\t\"name\": \"name\",\n",
        "\t\t\t\t\"type\": \"string\"\n",
        "\t\t\t},\n",
        "\t\t\t{\n",
        "\t\t\t\t\"indexed\": False,\n",
        "\t\t\t\t\"internalType\": \"uint256\",\n",
        "\t\t\t\t\"name\": \"quantity\",\n",
        "\t\t\t\t\"type\": \"uint256\"\n",
        "\t\t\t},\n",
        "\t\t\t{\n",
        "\t\t\t\t\"indexed\": False,\n",
        "\t\t\t\t\"internalType\": \"uint256\",\n",
        "\t\t\t\t\"name\": \"expirationDate\",\n",
        "\t\t\t\t\"type\": \"uint256\"\n",
        "\t\t\t}\n",
        "\t\t],\n",
        "\t\t\"name\": \"ItemAdded\",\n",
        "\t\t\"type\": \"event\"\n",
        "\t},\n",
        "\t{\n",
        "\t\t\"anonymous\": False,\n",
        "\t\t\"inputs\": [\n",
        "\t\t\t{\n",
        "\t\t\t\t\"indexed\": False,\n",
        "\t\t\t\t\"internalType\": \"uint256\",\n",
        "\t\t\t\t\"name\": \"id\",\n",
        "\t\t\t\t\"type\": \"uint256\"\n",
        "\t\t\t},\n",
        "\t\t\t{\n",
        "\t\t\t\t\"indexed\": False,\n",
        "\t\t\t\t\"internalType\": \"string\",\n",
        "\t\t\t\t\"name\": \"name\",\n",
        "\t\t\t\t\"type\": \"string\"\n",
        "\t\t\t},\n",
        "\t\t\t{\n",
        "\t\t\t\t\"indexed\": False,\n",
        "\t\t\t\t\"internalType\": \"uint256\",\n",
        "\t\t\t\t\"name\": \"quantity\",\n",
        "\t\t\t\t\"type\": \"uint256\"\n",
        "\t\t\t}\n",
        "\t\t],\n",
        "\t\t\"name\": \"ItemUpdated\",\n",
        "\t\t\"type\": \"event\"\n",
        "\t},\n",
        "\t{\n",
        "\t\t\"anonymous\": False,\n",
        "\t\t\"inputs\": [\n",
        "\t\t\t{\n",
        "\t\t\t\t\"indexed\": False,\n",
        "\t\t\t\t\"internalType\": \"uint256\",\n",
        "\t\t\t\t\"name\": \"id\",\n",
        "\t\t\t\t\"type\": \"uint256\"\n",
        "\t\t\t},\n",
        "\t\t\t{\n",
        "\t\t\t\t\"indexed\": False,\n",
        "\t\t\t\t\"internalType\": \"string\",\n",
        "\t\t\t\t\"name\": \"newStatus\",\n",
        "\t\t\t\t\"type\": \"string\"\n",
        "\t\t\t}\n",
        "\t\t],\n",
        "\t\t\"name\": \"StatusChanged\",\n",
        "\t\t\"type\": \"event\"\n",
        "\t},\n",
        "\t{\n",
        "\t\t\"inputs\": [\n",
        "\t\t\t{\n",
        "\t\t\t\t\"internalType\": \"uint256\",\n",
        "\t\t\t\t\"name\": \"itemId\",\n",
        "\t\t\t\t\"type\": \"uint256\"\n",
        "\t\t\t},\n",
        "\t\t\t{\n",
        "\t\t\t\t\"internalType\": \"string\",\n",
        "\t\t\t\t\"name\": \"name\",\n",
        "\t\t\t\t\"type\": \"string\"\n",
        "\t\t\t},\n",
        "\t\t\t{\n",
        "\t\t\t\t\"internalType\": \"uint256\",\n",
        "\t\t\t\t\"name\": \"quantity\",\n",
        "\t\t\t\t\"type\": \"uint256\"\n",
        "\t\t\t}\n",
        "\t\t],\n",
        "\t\t\"name\": \"updateItem\",\n",
        "\t\t\"outputs\": [],\n",
        "\t\t\"stateMutability\": \"nonpayable\",\n",
        "\t\t\"type\": \"function\"\n",
        "\t},\n",
        "\t{\n",
        "\t\t\"anonymous\": False,\n",
        "\t\t\"inputs\": [\n",
        "\t\t\t{\n",
        "\t\t\t\t\"indexed\": False,\n",
        "\t\t\t\t\"internalType\": \"address\",\n",
        "\t\t\t\t\"name\": \"user\",\n",
        "\t\t\t\t\"type\": \"address\"\n",
        "\t\t\t},\n",
        "\t\t\t{\n",
        "\t\t\t\t\"indexed\": False,\n",
        "\t\t\t\t\"internalType\": \"string\",\n",
        "\t\t\t\t\"name\": \"role\",\n",
        "\t\t\t\t\"type\": \"string\"\n",
        "\t\t\t}\n",
        "\t\t],\n",
        "\t\t\"name\": \"UserAdded\",\n",
        "\t\t\"type\": \"event\"\n",
        "\t},\n",
        "\t{\n",
        "\t\t\"inputs\": [],\n",
        "\t\t\"name\": \"admin\",\n",
        "\t\t\"outputs\": [\n",
        "\t\t\t{\n",
        "\t\t\t\t\"internalType\": \"address\",\n",
        "\t\t\t\t\"name\": \"\",\n",
        "\t\t\t\t\"type\": \"address\"\n",
        "\t\t\t}\n",
        "\t\t],\n",
        "\t\t\"stateMutability\": \"view\",\n",
        "\t\t\"type\": \"function\"\n",
        "\t},\n",
        "\t{\n",
        "\t\t\"inputs\": [\n",
        "\t\t\t{\n",
        "\t\t\t\t\"internalType\": \"uint256\",\n",
        "\t\t\t\t\"name\": \"\",\n",
        "\t\t\t\t\"type\": \"uint256\"\n",
        "\t\t\t}\n",
        "\t\t],\n",
        "\t\t\"name\": \"items\",\n",
        "\t\t\"outputs\": [\n",
        "\t\t\t{\n",
        "\t\t\t\t\"internalType\": \"uint256\",\n",
        "\t\t\t\t\"name\": \"id\",\n",
        "\t\t\t\t\"type\": \"uint256\"\n",
        "\t\t\t},\n",
        "\t\t\t{\n",
        "\t\t\t\t\"internalType\": \"string\",\n",
        "\t\t\t\t\"name\": \"name\",\n",
        "\t\t\t\t\"type\": \"string\"\n",
        "\t\t\t},\n",
        "\t\t\t{\n",
        "\t\t\t\t\"internalType\": \"uint256\",\n",
        "\t\t\t\t\"name\": \"quantity\",\n",
        "\t\t\t\t\"type\": \"uint256\"\n",
        "\t\t\t},\n",
        "\t\t\t{\n",
        "\t\t\t\t\"internalType\": \"string\",\n",
        "\t\t\t\t\"name\": \"status\",\n",
        "\t\t\t\t\"type\": \"string\"\n",
        "\t\t\t},\n",
        "\t\t\t{\n",
        "\t\t\t\t\"internalType\": \"uint256\",\n",
        "\t\t\t\t\"name\": \"expirationDate\",\n",
        "\t\t\t\t\"type\": \"uint256\"\n",
        "\t\t\t}\n",
        "\t\t],\n",
        "\t\t\"stateMutability\": \"view\",\n",
        "\t\t\"type\": \"function\"\n",
        "\t},\n",
        "\t{\n",
        "\t\t\"inputs\": [],\n",
        "\t\t\"name\": \"nextItemId\",\n",
        "\t\t\"outputs\": [\n",
        "\t\t\t{\n",
        "\t\t\t\t\"internalType\": \"uint256\",\n",
        "\t\t\t\t\"name\": \"\",\n",
        "\t\t\t\t\"type\": \"uint256\"\n",
        "\t\t\t}\n",
        "\t\t],\n",
        "\t\t\"stateMutability\": \"view\",\n",
        "\t\t\"type\": \"function\"\n",
        "\t},\n",
        "\t{\n",
        "\t\t\"inputs\": [\n",
        "\t\t\t{\n",
        "\t\t\t\t\"internalType\": \"address\",\n",
        "\t\t\t\t\"name\": \"\",\n",
        "\t\t\t\t\"type\": \"address\"\n",
        "\t\t\t}\n",
        "\t\t],\n",
        "\t\t\"name\": \"userRoles\",\n",
        "\t\t\"outputs\": [\n",
        "\t\t\t{\n",
        "\t\t\t\t\"internalType\": \"string\",\n",
        "\t\t\t\t\"name\": \"\",\n",
        "\t\t\t\t\"type\": \"string\"\n",
        "\t\t\t}\n",
        "\t\t],\n",
        "\t\t\"stateMutability\": \"view\",\n",
        "\t\t\"type\": \"function\"\n",
        "\t}\n",
        "]"
      ]
    },
    {
      "cell_type": "code",
      "execution_count": 149,
      "metadata": {},
      "outputs": [],
      "source": [
        "from web3 import Web3, HTTPProvider\n",
        "# from web3.auto import w3\n"
      ]
    },
    {
      "cell_type": "code",
      "execution_count": 150,
      "metadata": {},
      "outputs": [],
      "source": [
        "\n",
        "# Initialize Web3\n",
        "\n",
        "w3 = Web3(HTTPProvider('https://sepolia.infura.io/v3/77bc553a897e47428c59460310a915dc'))\n"
      ]
    },
    {
      "cell_type": "code",
      "execution_count": null,
      "metadata": {},
      "outputs": [],
      "source": [
        "\n",
        "new_account = w3.eth.account.create()\n",
        "\n",
        "address = new_account.address\n",
        "private_key = new_account.key.hex()  \n"
      ]
    },
    {
      "cell_type": "code",
      "execution_count": 135,
      "metadata": {},
      "outputs": [
        {
          "name": "stdout",
          "output_type": "stream",
          "text": [
            "<eth_account.signers.local.LocalAccount object at 0x7f0b5ca0de20> 0x332F77433d99bA7287c1E7a8B88D8599de6b7193 0x6201f9959c9e9234b51b58fcfd5d9e7b8a987bda4796efa1878265850b2dd45d\n"
          ]
        }
      ],
      "source": [
        "print(new_account, address, private_key)"
      ]
    },
    {
      "cell_type": "code",
      "execution_count": 62,
      "metadata": {},
      "outputs": [],
      "source": [
        "new_account2 = w3.eth.account.create()\n",
        "address2 = new_account2.address\n",
        "private_key2 = new_account2.key.hex()  \n"
      ]
    },
    {
      "cell_type": "code",
      "execution_count": 136,
      "metadata": {},
      "outputs": [
        {
          "name": "stdout",
          "output_type": "stream",
          "text": [
            "<eth_account.signers.local.LocalAccount object at 0x7f0b5c977b80> 0xa2408723c6714c5750b1D8c9BD976E0C822331Cd 0xe83090bec34bcc164282c47dbedb4d7341c5e86a1a736ac6165f19c37eec176f\n"
          ]
        }
      ],
      "source": [
        "print(new_account2, address2, private_key2)"
      ]
    },
    {
      "cell_type": "markdown",
      "metadata": {},
      "source": []
    },
    {
      "cell_type": "code",
      "execution_count": 137,
      "metadata": {},
      "outputs": [],
      "source": [
        "\n",
        "YOUR_ETH_ADDRESS = address\n",
        "PRIVATE_KEY = private_key\n",
        "\n",
        "DEPLOYED_CONTRACT_ADDRESS = '0xd9145CCE52D386f254917e481eB44e9943F39138'\n"
      ]
    },
    {
      "cell_type": "code",
      "execution_count": 139,
      "metadata": {},
      "outputs": [],
      "source": [
        "import time \n",
        "def send_transaction(method_data, tx_id):\n",
        "    nonce = w3.eth.get_transaction_count(YOUR_ETH_ADDRESS)\n",
        "\n",
        "    tx = {\n",
        "        'nonce': nonce,\n",
        "        'to': DEPLOYED_CONTRACT_ADDRESS,\n",
        "        'value': 0,  \n",
        "        'gas': 2000000,  \n",
        "        'gasPrice': w3.toWei('50', 'gwei'),  \n",
        "        'data': method_data\n",
        "    }\n",
        "\n",
        "    signed_tx = w3.eth.account.sign_transaction(tx, PRIVATE_KEY)\n",
        "\n",
        "    tx_hash = w3.eth.sendRawTransaction(signed_tx.rawTransaction)\n",
        "\n",
        "    tx_receipt = w3.eth.wait_for_transaction_receipt(tx_hash)\n",
        "    \n",
        "    if tx_receipt != None:\n",
        "        pass\n",
        "    else:\n",
        "        time.sleep( 5 ) \n",
        "        \n",
        "    return {\n",
        "        \"jsonrpc\": \"2.0\",\n",
        "        \"method\": \"eth_sendTransaction\",\n",
        "        \"params\": [tx],\n",
        "        \"id\": tx_id,\n",
        "        'receipt': tx_receipt\n",
        "    }\n",
        "\n",
        "def add_user(encoded_add_user_function_call):\n",
        "    return send_transaction(encoded_add_user_function_call, 1)\n",
        "\n",
        "def add_item_with_expiration(encoded_add_item_with_expiration_function_call):\n",
        "    return send_transaction(encoded_add_item_with_expiration_function_call, 2)\n",
        "\n",
        "def update_item(encoded_update_item_function_call):\n",
        "    return send_transaction(encoded_update_item_function_call, 3)\n",
        "\n",
        "def change_item_status(encoded_change_item_status_function_call):\n",
        "    return send_transaction(encoded_change_item_status_function_call, 4)\n",
        "\n",
        "def get_all_users(encoded_get_all_users_function_call):\n",
        "    return send_transaction(encoded_get_all_users_function_call, 5)\n",
        "\n"
      ]
    },
    {
      "cell_type": "code",
      "execution_count": 140,
      "metadata": {},
      "outputs": [],
      "source": [
        "\n",
        "contractcall = w3.eth.contract(DEPLOYED_CONTRACT_ADDRESS, abi=CONTRACT_ABI)\n",
        "\n",
        "encoded_function_call = contractcall.encodeABI(fn_name='addItemWithExpiration', args=['tire', 45, 10221998])\n",
        "\n",
        "\n",
        "contractcall.functions.addUser(address2, 'testuser')\n",
        "\n"
      ]
    },
    {
      "cell_type": "code",
      "execution_count": 146,
      "metadata": {},
      "outputs": [
        {
          "data": {
            "text/plain": [
              "'0x332F77433d99bA7287c1E7a8B88D8599de6b7193'"
            ]
          },
          "execution_count": 146,
          "metadata": {},
          "output_type": "execute_result"
        }
      ],
      "source": [
        "address"
      ]
    },
    {
      "cell_type": "code",
      "execution_count": 143,
      "metadata": {},
      "outputs": [
        {
          "data": {
            "text/plain": [
              "<Function getAllUsers() bound to ()>"
            ]
          },
          "execution_count": 143,
          "metadata": {},
          "output_type": "execute_result"
        }
      ],
      "source": [
        "contractcall.functions.getAllUsers()"
      ]
    },
    {
      "cell_type": "code",
      "execution_count": 129,
      "metadata": {},
      "outputs": [],
      "source": [
        "encoded_function_call = contractcall.encodeABI(fn_name='addUser', args=[address2, 'testone'])\n"
      ]
    },
    {
      "cell_type": "code",
      "execution_count": null,
      "metadata": {},
      "outputs": [],
      "source": [
        "\n",
        "contract = w3.eth.contract(address=DEPLOYED_CONTRACT_ADDRESS, abi=CONTRACT_ABI)\n",
        "# Encoding the function call\n",
        "encoded_function_call = contract.encodeABI(fn_name=function_name, args=args)\n",
        "\n",
        "\n",
        "# Example usage:\n",
        "# Replace 'encoded_function_call' with the actual encoded ABI data for each function call\n",
        "# add_user_result = add_user('encoded_add_user_function_call')\n",
        "# add_item_result = add_item('encoded_add_item_function_call')\n",
        "# update_item_result = update_item('encoded_update_item_function_call')\n",
        "# change_item_status_result = change_item_status('encoded_change_item_status_function_call')\n"
      ]
    }
  ],
  "metadata": {
    "colab": {
      "provenance": []
    },
    "kernelspec": {
      "display_name": "Python 3",
      "name": "python3"
    },
    "language_info": {
      "codemirror_mode": {
        "name": "ipython",
        "version": 3
      },
      "file_extension": ".py",
      "mimetype": "text/x-python",
      "name": "python",
      "nbconvert_exporter": "python",
      "pygments_lexer": "ipython3",
      "version": "3.8.10"
    }
  },
  "nbformat": 4,
  "nbformat_minor": 0
}
